{
 "cells": [
  {
   "cell_type": "code",
   "execution_count": 1,
   "metadata": {},
   "outputs": [],
   "source": [
    "import spacy\n",
    "import random\n",
    "from spacy.util import minibatch, compounding"
   ]
  },
  {
   "cell_type": "code",
   "execution_count": null,
   "metadata": {},
   "outputs": [],
   "source": [
    "def train_spacy_model(data_dict, output_dir):\n",
    "    nlp = spacy.blank(\"pt\")  # Cria um modelo em branco para o idioma português\n",
    "    ner = nlp.create_pipe(\"ner\")\n",
    "    nlp.add_pipe(ner)\n",
    "    \n",
    "    for entity_label, examples in data_dict.items():\n",
    "        ner.add_label(entity_label)  # Adiciona os rótulos das entidades com base nas keys do dicionário\n",
    "        \n",
    "        for text, annotations in examples:\n",
    "            entities = annotations[\"entities\"]\n",
    "            doc = nlp.make_doc(text)\n",
    "            example = spacy.training.Example.from_dict(doc, annotations)\n",
    "            ner.add_examples([example])\n",
    "    \n",
    "    # Treinamento do modelo\n",
    "    optimizer = nlp.begin_training()\n",
    "    for _ in range(20):  # Número de iterações de treinamento\n",
    "        random.shuffle(ner.examples)\n",
    "        losses = {}\n",
    "        batches = minibatch(ner.examples, size=compounding(4.0, 32.0, 1.001))\n",
    "        for batch in batches:\n",
    "            nlp.update(batch, sgd=optimizer, drop=0.5, losses=losses)\n",
    "    \n",
    "    # Salvando o modelo treinado\n",
    "    nlp.to_disk(output_dir)\n",
    "    print(\"Modelo salvo em\", output_dir)"
   ]
  },
  {
   "attachments": {},
   "cell_type": "markdown",
   "metadata": {},
   "source": [
    "#### Exemplo de dados dos parâmetros:"
   ]
  },
  {
   "cell_type": "code",
   "execution_count": null,
   "metadata": {},
   "outputs": [],
   "source": [
    "data_dict = {\n",
    "    \"motor\": [\n",
    "        (\"o motor não está funcionando corretamente\", {\"entities\": [(3, 8, \"motor\")]})\n",
    "    ]\n",
    "}\n",
    "\n",
    "output_dir = \"caminho/para/salvar/modelo\"\n",
    "\n",
    "train_spacy_model(data_dict, output_dir)"
   ]
  }
 ],
 "metadata": {
  "kernelspec": {
   "display_name": ".venv",
   "language": "python",
   "name": "python3"
  },
  "language_info": {
   "codemirror_mode": {
    "name": "ipython",
    "version": 3
   },
   "file_extension": ".py",
   "mimetype": "text/x-python",
   "name": "python",
   "nbconvert_exporter": "python",
   "pygments_lexer": "ipython3",
   "version": "3.9.7"
  },
  "orig_nbformat": 4
 },
 "nbformat": 4,
 "nbformat_minor": 2
}
