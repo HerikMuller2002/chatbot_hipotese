{
 "cells": [
  {
   "cell_type": "code",
   "execution_count": null,
   "metadata": {},
   "outputs": [],
   "source": [
    "import spacy\n",
    "import random\n",
    "from spacy.util import minibatch, compounding"
   ]
  },
  {
   "cell_type": "code",
   "execution_count": null,
   "metadata": {},
   "outputs": [],
   "source": [
    "nlp = spacy.load(\"pt_core_news_sm\")"
   ]
  },
  {
   "cell_type": "code",
   "execution_count": null,
   "metadata": {},
   "outputs": [],
   "source": [
    "def train_model(data_dict, iterations):\n",
    "    # Cria um modelo vazio do Spacy\n",
    "    nlp = spacy.blank(\"pt\")\n",
    "    \n",
    "    # Cria um ner (Named Entity Recognizer) vazio e adiciona ao pipeline do modelo\n",
    "    ner = nlp.create_pipe(\"ner\")\n",
    "    nlp.add_pipe(ner, last=True)\n",
    "\n",
    "    # Define as labels (entidades) para treinar o modelo\n",
    "    for label in data_dict.keys():\n",
    "        ner.add_label(label)\n",
    "    \n",
    "    # Prepara os dados de treinamento\n",
    "    train_data = []\n",
    "    for label, examples in data_dict.items():\n",
    "        for text, annotations in examples:\n",
    "            train_data.append((text, annotations))\n",
    "    \n",
    "    # Inicia o treinamento do modelo\n",
    "    nlp.begin_training()\n",
    "    for itn in range(iterations):\n",
    "        # Embaralha os dados de treinamento para aumentar a diversidade\n",
    "        random.shuffle(train_data)\n",
    "        losses = {}\n",
    "        \n",
    "        # Divide os dados em lotes (batches) e atualiza o modelo em cada lote\n",
    "        batches = minibatch(train_data, size=compounding(4.0, 32.0, 1.001))\n",
    "        for batch in batches:\n",
    "            texts, annotations = zip(*batch)\n",
    "            nlp.update(texts, annotations, losses=losses)\n",
    "        \n",
    "        # Imprime a perda (loss) durante o treinamento\n",
    "        print(\"Iteration:\", itn+1, \"Loss:\", losses)\n",
    "\n",
    "    # # Salvando o modelo treinado\n",
    "    # nlp.to_disk(output_dir)\n",
    "\n",
    "    return nlp\n"
   ]
  },
  {
   "attachments": {},
   "cell_type": "markdown",
   "metadata": {},
   "source": [
    "#### Exemplo de dados dos parâmetros:"
   ]
  },
  {
   "cell_type": "code",
   "execution_count": null,
   "metadata": {},
   "outputs": [],
   "source": [
    "data_dict = entidades = {\n",
    "    \"BOMBA\": [\n",
    "    (\"Bomba centrífuga\", {\"entities\": [(0, 5, \"BOMBA\")]}),\n",
    "    (\"Bomba de água\", {\"entities\": [(0, 5, \"BOMBA\")]}),\n",
    "    (\"Bomba de vácuo\", {\"entities\": [(0, 5, \"BOMBA\")]}),\n",
    "    (\"Bomba de calor\", {\"entities\": [(0, 5, \"BOMBA\")]}),\n",
    "    (\"Bomba dosadora\", {\"entities\": [(0, 5, \"BOMBA\")]}),\n",
    "    (\"Bomba submersível\", {\"entities\": [(0, 5, \"BOMBA\")]}),\n",
    "    (\"Bomba de pistão\", {\"entities\": [(0, 5, \"BOMBA\")]}),\n",
    "    (\"Bomba de diafragma\", {\"entities\": [(0, 5, \"BOMBA\")]}),\n",
    "    (\"Bomba de engrenagem\", {\"entities\": [(0, 5, \"BOMBA\")]}),\n",
    "    (\"Bomba de incêndio\", {\"entities\": [(0, 5, \"BOMBA\")]}),\n",
    "    (\"Bomba centrífuga\", {\"entities\": [(0, 5, \"BOMBA\")]}),\n",
    "    (\"Bomba de água\", {\"entities\": [(0, 5, \"BOMBA\")]}),\n",
    "    (\"Bomba de vácuo\", {\"entities\": [(0, 5, \"BOMBA\")]}),\n",
    "    (\"Bomba de calor\", {\"entities\": [(0, 5, \"BOMBA\")]}),\n",
    "    (\"Bomba dosadora\", {\"entities\": [(0, 5, \"BOMBA\")]}),\n",
    "    (\"Bomba submersível\", {\"entities\": [(0, 5, \"BOMBA\")]}),\n",
    "    (\"Bomba de pistão\", {\"entities\": [(0, 5, \"BOMBA\")]}),\n",
    "    (\"Bomba de diafragma\", {\"entities\": [(0, 5, \"BOMBA\")]}),\n",
    "    (\"Bomba de engrenagem\", {\"entities\": [(0, 5, \"BOMBA\")]}),\n",
    "    (\"Bomba de incêndio\", {\"entities\": [(0, 5, \"BOMBA\")]}),\n",
    "    (\"Bomba de vácuo rotativa\", {\"entities\": [(0, 5, \"BOMBA\")]}),\n",
    "    (\"Bomba de alta pressão\", {\"entities\": [(0, 5, \"BOMBA\")]}),\n",
    "    (\"Bomba de transferência\", {\"entities\": [(0, 5, \"BOMBA\")]}),\n",
    "    (\"Bomba de ar comprimido\", {\"entities\": [(0, 5, \"BOMBA\")]}),\n",
    "    (\"Bomba de esgoto\", {\"entities\": [(0, 5, \"BOMBA\")]}),\n",
    "    (\"Bomba peristáltica\", {\"entities\": [(0, 5, \"BOMBA\")]}),\n",
    "    (\"Bomba de irrigação\", {\"entities\": [(0, 5, \"BOMBA\")]}),\n",
    "    (\"Bomba de deslocamento positivo\", {\"entities\": [(0, 5, \"BOMBA\")]}),\n",
    "    (\"Bomba de lóbulos\", {\"entities\": [(0, 5, \"BOMBA\")]}),\n",
    "    (\"Bomba de turbina\", {\"entities\": [(0, 5, \"BOMBA\")]}),\n",
    "    (\"Bomba de palhetas\", {\"entities\": [(0, 5, \"BOMBA\")]}),\n",
    "    (\"Bomba de cavidade progressiva\", {\"entities\": [(0, 5, \"BOMBA\")]}),\n",
    "    (\"Bomba hidráulica\", {\"entities\": [(0, 5, \"BOMBA\")]}),\n",
    "    (\"Bomba de duplo diafragma\", {\"entities\": [(0, 5, \"BOMBA\")]}),\n",
    "    (\"Bomba de poço\", {\"entities\": [(0, 5, \"BOMBA\")]}),\n",
    "    (\"Bomba de drenagem\", {\"entities\": [(0, 5, \"BOMBA\")]}),\n",
    "    (\"Bomba de concreto\", {\"entities\": [(0, 5, \"BOMBA\")]}),\n",
    "    (\"Bomba de óleo\", {\"entities\": [(0, 5, \"BOMBA\")]}),\n",
    "    (\"Bomba de químicos\", {\"entities\": [(0, 5, \"BOMBA\")]}),\n",
    "    (\"Bomba de refrigeração\", {\"entities\": [(0, 5, \"BOMBA\")]})\n",
    "    ]}\n",
    "\n",
    "output_dir = r\"..\\documents\"\n",
    "\n",
    "iterations = 100\n",
    "model = train_model(data_dict, iterations)"
   ]
  },
  {
   "cell_type": "code",
   "execution_count": null,
   "metadata": {},
   "outputs": [],
   "source": [
    "import pandas as pd"
   ]
  },
  {
   "cell_type": "code",
   "execution_count": null,
   "metadata": {},
   "outputs": [],
   "source": [
    "df = pd.read_excel('..\\documents\\classes.xlsx')\n",
    "df.head()"
   ]
  }
 ],
 "metadata": {
  "kernelspec": {
   "display_name": ".venv",
   "language": "python",
   "name": "python3"
  },
  "language_info": {
   "codemirror_mode": {
    "name": "ipython",
    "version": 3
   },
   "file_extension": ".py",
   "mimetype": "text/x-python",
   "name": "python",
   "nbconvert_exporter": "python",
   "pygments_lexer": "ipython3",
   "version": "3.9.7"
  },
  "orig_nbformat": 4
 },
 "nbformat": 4,
 "nbformat_minor": 2
}
