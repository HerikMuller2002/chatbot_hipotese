{
 "cells": [
  {
   "cell_type": "code",
   "execution_count": 7,
   "metadata": {},
   "outputs": [],
   "source": [
    "import json\n",
    "import pandas as pd\n",
    "\n",
    "with open(r\"..\\dados\\intents_KERAS.json\",\"r\", encoding=\"utf-8\") as f:\n",
    "    data = json.load(f)"
   ]
  },
  {
   "cell_type": "code",
   "execution_count": 18,
   "metadata": {},
   "outputs": [],
   "source": [
    "lista = []\n",
    "dict_ = {}\n",
    "for i in data:\n",
    "    dict_[i['label']] = i['samples']\n",
    "lista.append(dict_)\n",
    "df = pd.DataFrame(lista)\n",
    "df.to_csv(r'..\\dados\\intents.csv')"
   ]
  },
  {
   "cell_type": "code",
   "execution_count": 19,
   "metadata": {},
   "outputs": [
    {
     "data": {
      "text/html": [
       "<div>\n",
       "<style scoped>\n",
       "    .dataframe tbody tr th:only-of-type {\n",
       "        vertical-align: middle;\n",
       "    }\n",
       "\n",
       "    .dataframe tbody tr th {\n",
       "        vertical-align: top;\n",
       "    }\n",
       "\n",
       "    .dataframe thead th {\n",
       "        text-align: right;\n",
       "    }\n",
       "</style>\n",
       "<table border=\"1\" class=\"dataframe\">\n",
       "  <thead>\n",
       "    <tr style=\"text-align: right;\">\n",
       "      <th></th>\n",
       "      <th>Unnamed: 0</th>\n",
       "      <th>SAUDACAO</th>\n",
       "      <th>AJUDA</th>\n",
       "      <th>PROBLEMA</th>\n",
       "      <th>INCERTEZA</th>\n",
       "      <th>ESCLARECIMENTO</th>\n",
       "      <th>FEEDBACK POSITIVO</th>\n",
       "      <th>FEEDBACK NEGATIVO</th>\n",
       "      <th>AGRADECIMENTO</th>\n",
       "      <th>DESPEDIDA</th>\n",
       "    </tr>\n",
       "  </thead>\n",
       "  <tbody>\n",
       "    <tr>\n",
       "      <th>0</th>\n",
       "      <td>0</td>\n",
       "      <td>['oi', 'bom dia', 'boa tarde', 'boa noite', 'g...</td>\n",
       "      <td>['pode me ajudar?', 'estou com problema', 'ten...</td>\n",
       "      <td>['text1', 'text2...']</td>\n",
       "      <td>['text1', 'text2...']</td>\n",
       "      <td>['text1', 'text2...']</td>\n",
       "      <td>['Ótimo', 'Excelente', 'Maravilhoso', 'Fantást...</td>\n",
       "      <td>['Péssimo serviço', 'Insatisfeito com o atendi...</td>\n",
       "      <td>['obrigada', 'tks', 'thank you', 'valeu', 'obr...</td>\n",
       "      <td>['tchau', 'bye', 'falou', 'tchau tchau', 'bye ...</td>\n",
       "    </tr>\n",
       "  </tbody>\n",
       "</table>\n",
       "</div>"
      ],
      "text/plain": [
       "   Unnamed: 0                                           SAUDACAO  \\\n",
       "0           0  ['oi', 'bom dia', 'boa tarde', 'boa noite', 'g...   \n",
       "\n",
       "                                               AJUDA               PROBLEMA  \\\n",
       "0  ['pode me ajudar?', 'estou com problema', 'ten...  ['text1', 'text2...']   \n",
       "\n",
       "               INCERTEZA         ESCLARECIMENTO  \\\n",
       "0  ['text1', 'text2...']  ['text1', 'text2...']   \n",
       "\n",
       "                                   FEEDBACK POSITIVO  \\\n",
       "0  ['Ótimo', 'Excelente', 'Maravilhoso', 'Fantást...   \n",
       "\n",
       "                                   FEEDBACK NEGATIVO  \\\n",
       "0  ['Péssimo serviço', 'Insatisfeito com o atendi...   \n",
       "\n",
       "                                       AGRADECIMENTO  \\\n",
       "0  ['obrigada', 'tks', 'thank you', 'valeu', 'obr...   \n",
       "\n",
       "                                           DESPEDIDA  \n",
       "0  ['tchau', 'bye', 'falou', 'tchau tchau', 'bye ...  "
      ]
     },
     "execution_count": 19,
     "metadata": {},
     "output_type": "execute_result"
    }
   ],
   "source": [
    "df = pd.read_csv(r'..\\dados\\intents.csv')\n",
    "df.head()"
   ]
  },
  {
   "cell_type": "code",
   "execution_count": null,
   "metadata": {},
   "outputs": [],
   "source": []
  }
 ],
 "metadata": {
  "kernelspec": {
   "display_name": ".venv",
   "language": "python",
   "name": "python3"
  },
  "language_info": {
   "codemirror_mode": {
    "name": "ipython",
    "version": 3
   },
   "file_extension": ".py",
   "mimetype": "text/x-python",
   "name": "python",
   "nbconvert_exporter": "python",
   "pygments_lexer": "ipython3",
   "version": "3.9.7"
  },
  "orig_nbformat": 4
 },
 "nbformat": 4,
 "nbformat_minor": 2
}
