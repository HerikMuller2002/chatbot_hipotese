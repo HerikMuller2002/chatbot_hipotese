{
 "cells": [
  {
   "cell_type": "code",
   "execution_count": 2,
   "metadata": {},
   "outputs": [],
   "source": [
    "import pandas as pd"
   ]
  },
  {
   "cell_type": "code",
   "execution_count": 3,
   "metadata": {},
   "outputs": [],
   "source": [
    "df1 = pd.read_excel(r\"documents\\troubleshooting.xlsx\")\n",
    "df2 = pd.read_excel(r\"documents\\en_troubleshooting.xlsx\")"
   ]
  },
  {
   "cell_type": "code",
   "execution_count": 4,
   "metadata": {},
   "outputs": [
    {
     "data": {
      "text/plain": [
       "(516, 7)"
      ]
     },
     "execution_count": 4,
     "metadata": {},
     "output_type": "execute_result"
    }
   ],
   "source": [
    "df2.shape"
   ]
  },
  {
   "cell_type": "code",
   "execution_count": 12,
   "metadata": {},
   "outputs": [],
   "source": [
    "total = 0\n",
    "cont = 0\n",
    "corrigidos = {}\n",
    "original = {}\n",
    "for (col1, serie1), (col2, serie2) in zip(df1.items(), df2.items()):\n",
    "    for (index1, value1), (index2, value2) in zip(serie1.items(), serie2.items()):\n",
    "        if value1 != value2:\n",
    "            cont += 1\n",
    "            corrigidos[value2] = index2\n",
    "            original[value1] = index1\n",
    "        total += 1\n"
   ]
  },
  {
   "cell_type": "code",
   "execution_count": 13,
   "metadata": {},
   "outputs": [
    {
     "name": "stdout",
     "output_type": "stream",
     "text": [
      "valores totais: 3612\n",
      "valores repetidos: 1527\n"
     ]
    }
   ],
   "source": [
    "print(f'valores totais: {total}')\n",
    "print(f'valores repetidos: {cont}')"
   ]
  },
  {
   "cell_type": "code",
   "execution_count": 50,
   "metadata": {},
   "outputs": [],
   "source": [
    "import tabula\n",
    "import pandas as pd\n",
    "\n",
    "# Extrair tabelas de todas as páginas do arquivo PDF\n",
    "tabelas = tabula.read_pdf(r'pdf\\action pt-BR.pdf', pages='all')\n",
    "\n",
    "# Salvar cada tabela em um arquivo Excel separado\n",
    "for i, tabela in enumerate(tabelas):\n",
    "    tabela.to_excel(f'portugues\\\\tabelas action\\\\tabela_{i}.xlsx', index=False)"
   ]
  }
 ],
 "metadata": {
  "kernelspec": {
   "display_name": ".venv",
   "language": "python",
   "name": "python3"
  },
  "language_info": {
   "codemirror_mode": {
    "name": "ipython",
    "version": 3
   },
   "file_extension": ".py",
   "mimetype": "text/x-python",
   "name": "python",
   "nbconvert_exporter": "python",
   "pygments_lexer": "ipython3",
   "version": "3.9.7"
  },
  "orig_nbformat": 4
 },
 "nbformat": 4,
 "nbformat_minor": 2
}
