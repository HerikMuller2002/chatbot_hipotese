{
 "cells": [
  {
   "cell_type": "code",
   "execution_count": 2,
   "metadata": {},
   "outputs": [],
   "source": [
    "import pandas as pd"
   ]
  },
  {
   "cell_type": "code",
   "execution_count": 5,
   "metadata": {},
   "outputs": [
    {
     "data": {
      "text/html": [
       "<div>\n",
       "<style scoped>\n",
       "    .dataframe tbody tr th:only-of-type {\n",
       "        vertical-align: middle;\n",
       "    }\n",
       "\n",
       "    .dataframe tbody tr th {\n",
       "        vertical-align: top;\n",
       "    }\n",
       "\n",
       "    .dataframe thead th {\n",
       "        text-align: right;\n",
       "    }\n",
       "</style>\n",
       "<table border=\"1\" class=\"dataframe\">\n",
       "  <thead>\n",
       "    <tr style=\"text-align: right;\">\n",
       "      <th></th>\n",
       "      <th>id</th>\n",
       "      <th>pag</th>\n",
       "      <th>type</th>\n",
       "      <th>equipament</th>\n",
       "      <th>problem</th>\n",
       "      <th>cause</th>\n",
       "      <th>action</th>\n",
       "      <th></th>\n",
       "    </tr>\n",
       "  </thead>\n",
       "  <tbody>\n",
       "    <tr>\n",
       "      <th>0</th>\n",
       "      <td>0</td>\n",
       "      <td>1</td>\n",
       "      <td>mecânico</td>\n",
       "      <td>bombas</td>\n",
       "      <td>Bomba muito quente e piscando. Bomba agitando ...</td>\n",
       "      <td>A válvula de descarga não está funcionando cor...</td>\n",
       "      <td>reparar ou substituir a válvula de descarga</td>\n",
       "      <td></td>\n",
       "    </tr>\n",
       "    <tr>\n",
       "      <th>1</th>\n",
       "      <td>1</td>\n",
       "      <td>1</td>\n",
       "      <td>mecânico</td>\n",
       "      <td>bombas</td>\n",
       "      <td>Bomba muito quente e piscando. Bomba agitando ...</td>\n",
       "      <td>desgaste excessivo na bomba</td>\n",
       "      <td>reparar ou substituir a bomba</td>\n",
       "      <td></td>\n",
       "    </tr>\n",
       "    <tr>\n",
       "      <th>2</th>\n",
       "      <td>2</td>\n",
       "      <td>1</td>\n",
       "      <td>mecânico</td>\n",
       "      <td>bombas</td>\n",
       "      <td>Bomba muito quente e piscando. Bomba agitando ...</td>\n",
       "      <td>válvula de alívio ajustada muito alta</td>\n",
       "      <td>Ajuste a válvula de alívio</td>\n",
       "      <td></td>\n",
       "    </tr>\n",
       "    <tr>\n",
       "      <th>3</th>\n",
       "      <td>3</td>\n",
       "      <td>1</td>\n",
       "      <td>mecânico</td>\n",
       "      <td>bombas</td>\n",
       "      <td>Bomba muito quente e piscando. Bomba agitando ...</td>\n",
       "      <td>válvula de descarga estrangulada ou fechada</td>\n",
       "      <td>abrir a válvula de descarga</td>\n",
       "      <td></td>\n",
       "    </tr>\n",
       "    <tr>\n",
       "      <th>4</th>\n",
       "      <td>4</td>\n",
       "      <td>1</td>\n",
       "      <td>mecânico</td>\n",
       "      <td>bombas</td>\n",
       "      <td>Bomba muito quente e piscando. Bomba agitando ...</td>\n",
       "      <td>vazamento no tubo de sucção</td>\n",
       "      <td>inspecionar a linha quanto a conexões quebrada...</td>\n",
       "      <td></td>\n",
       "    </tr>\n",
       "  </tbody>\n",
       "</table>\n",
       "</div>"
      ],
      "text/plain": [
       "   id  pag      type equipament   \n",
       "0   0    1  mecânico     bombas  \\\n",
       "1   1    1  mecânico     bombas   \n",
       "2   2    1  mecânico     bombas   \n",
       "3   3    1  mecânico     bombas   \n",
       "4   4    1  mecânico     bombas   \n",
       "\n",
       "                                             problem   \n",
       "0  Bomba muito quente e piscando. Bomba agitando ...  \\\n",
       "1  Bomba muito quente e piscando. Bomba agitando ...   \n",
       "2  Bomba muito quente e piscando. Bomba agitando ...   \n",
       "3  Bomba muito quente e piscando. Bomba agitando ...   \n",
       "4  Bomba muito quente e piscando. Bomba agitando ...   \n",
       "\n",
       "                                               cause   \n",
       "0  A válvula de descarga não está funcionando cor...  \\\n",
       "1                        desgaste excessivo na bomba   \n",
       "2              válvula de alívio ajustada muito alta   \n",
       "3        válvula de descarga estrangulada ou fechada   \n",
       "4                        vazamento no tubo de sucção   \n",
       "\n",
       "                                              action     \n",
       "0        reparar ou substituir a válvula de descarga     \n",
       "1                      reparar ou substituir a bomba     \n",
       "2                         Ajuste a válvula de alívio     \n",
       "3                        abrir a válvula de descarga     \n",
       "4  inspecionar a linha quanto a conexões quebrada...     "
      ]
     },
     "execution_count": 5,
     "metadata": {},
     "output_type": "execute_result"
    }
   ],
   "source": [
    "df = pd.read_excel(r'..\\portugues\\pt_troubleshooting.xlsx')\n",
    "df.head()"
   ]
  },
  {
   "cell_type": "code",
   "execution_count": 8,
   "metadata": {},
   "outputs": [
    {
     "data": {
      "text/plain": [
       "['bombas',\n",
       " 'rolamentos',\n",
       " 'válvulas',\n",
       " 'acionamentos por corrente',\n",
       " 'caixas de engrenagens',\n",
       " 'Sistemas de óleo lubrificante',\n",
       " 'Acionamentos por correia em V',\n",
       " 'Sistemas de ventiladores',\n",
       " 'Purgadores de vapor',\n",
       " 'Motores elétricos',\n",
       " 'Contatos elétricos',\n",
       " 'Disjuntores elétricos de caixa moldada',\n",
       " 'Circuito magnético',\n",
       " 'Circuito dielétrico']"
      ]
     },
     "execution_count": 8,
     "metadata": {},
     "output_type": "execute_result"
    }
   ],
   "source": [
    "class_equipament = []\n",
    "for equip in df['equipament']:\n",
    "    if equip not in class_equipament and equip != 'Motores elétricos (dc)':\n",
    "        class_equipament.append(equip)\n",
    "class_equipament"
   ]
  }
 ],
 "metadata": {
  "kernelspec": {
   "display_name": ".venv",
   "language": "python",
   "name": "python3"
  },
  "language_info": {
   "codemirror_mode": {
    "name": "ipython",
    "version": 3
   },
   "file_extension": ".py",
   "mimetype": "text/x-python",
   "name": "python",
   "nbconvert_exporter": "python",
   "pygments_lexer": "ipython3",
   "version": "3.9.7"
  },
  "orig_nbformat": 4
 },
 "nbformat": 4,
 "nbformat_minor": 2
}
