{
 "cells": [
  {
   "cell_type": "markdown",
   "metadata": {},
   "source": [
    "## Pytorch"
   ]
  },
  {
   "cell_type": "code",
   "execution_count": 2,
   "metadata": {},
   "outputs": [
    {
     "name": "stderr",
     "output_type": "stream",
     "text": [
      "c:\\Users\\Semeq\\Desktop\\chatbot_hipotese\\.venv\\lib\\site-packages\\tqdm\\auto.py:21: TqdmWarning: IProgress not found. Please update jupyter and ipywidgets. See https://ipywidgets.readthedocs.io/en/stable/user_install.html\n",
      "  from .autonotebook import tqdm as notebook_tqdm\n",
      "Some weights of the model checkpoint at bert-base-uncased were not used when initializing BertForSequenceClassification: ['cls.predictions.transform.LayerNorm.bias', 'cls.predictions.bias', 'cls.predictions.transform.LayerNorm.weight', 'cls.seq_relationship.weight', 'cls.seq_relationship.bias', 'cls.predictions.decoder.weight', 'cls.predictions.transform.dense.bias', 'cls.predictions.transform.dense.weight']\n",
      "- This IS expected if you are initializing BertForSequenceClassification from the checkpoint of a model trained on another task or with another architecture (e.g. initializing a BertForSequenceClassification model from a BertForPreTraining model).\n",
      "- This IS NOT expected if you are initializing BertForSequenceClassification from the checkpoint of a model that you expect to be exactly identical (initializing a BertForSequenceClassification model from a BertForSequenceClassification model).\n",
      "Some weights of BertForSequenceClassification were not initialized from the model checkpoint at bert-base-uncased and are newly initialized: ['classifier.weight', 'classifier.bias']\n",
      "You should probably TRAIN this model on a down-stream task to be able to use it for predictions and inference.\n"
     ]
    },
    {
     "name": "stdout",
     "output_type": "stream",
     "text": [
      "Texto: Eu estou gostando de aprender sobre PLN!\n",
      "Classe prevista: Positivo\n",
      "Probabilidades: [0.404199   0.59580094]\n"
     ]
    }
   ],
   "source": [
    "from transformers import BertTokenizer, BertForSequenceClassification\n",
    "import torch\n",
    "\n",
    "# Carregar o tokenizer e o modelo pré-treinado do BERT\n",
    "tokenizer = BertTokenizer.from_pretrained('bert-base-uncased')\n",
    "model = BertForSequenceClassification.from_pretrained('bert-base-uncased')\n",
    "\n",
    "# Texto de exemplo\n",
    "texto = \"Eu estou gostando de aprender sobre PLN!\"\n",
    "\n",
    "# Tokenizar o texto de entrada\n",
    "tokens = tokenizer.encode_plus(\n",
    "    texto,\n",
    "    max_length=512,\n",
    "    truncation=True,\n",
    "    padding='max_length',\n",
    "    add_special_tokens=True,\n",
    "    return_tensors='pt'\n",
    ")\n",
    "\n",
    "# Fazer a previsão usando o modelo BERT\n",
    "outputs = model(**tokens)\n",
    "probas = torch.softmax(outputs.logits, dim=1).detach().numpy()[0]\n",
    "\n",
    "# Obter as classes previstas\n",
    "labels = ['Negativo', 'Positivo']\n",
    "\n",
    "# Converter o array numpy em um tensor PyTorch\n",
    "probas_tensor = torch.from_numpy(probas)\n",
    "# Obter a classe prevista\n",
    "predicted_class = labels[int(torch.argmax(probas_tensor))]\n",
    "\n",
    "# Imprimir as previsões\n",
    "print(f\"Texto: {texto}\")\n",
    "print(f\"Classe prevista: {predicted_class}\")\n",
    "print(f\"Probabilidades: {probas}\")"
   ]
  }
 ],
 "metadata": {
  "kernelspec": {
   "display_name": ".venv",
   "language": "python",
   "name": "python3"
  },
  "language_info": {
   "codemirror_mode": {
    "name": "ipython",
    "version": 3
   },
   "file_extension": ".py",
   "mimetype": "text/x-python",
   "name": "python",
   "nbconvert_exporter": "python",
   "pygments_lexer": "ipython3",
   "version": "3.9.7"
  },
  "orig_nbformat": 4
 },
 "nbformat": 4,
 "nbformat_minor": 2
}
