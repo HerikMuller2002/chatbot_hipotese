{
 "cells": [
  {
   "cell_type": "code",
   "execution_count": 1,
   "metadata": {},
   "outputs": [],
   "source": [
    "import pandas as pd"
   ]
  },
  {
   "cell_type": "code",
   "execution_count": 42,
   "metadata": {},
   "outputs": [
    {
     "name": "stdout",
     "output_type": "stream",
     "text": [
      "{'classe1': ['12345', {'entities': [[1, 2, 'classe1'], [5, 7, 'classe1'], [1, 4, 'classe1']]}]}\n",
      "{'classe1': ['12345', {'entities': [[5, 7, 'classe1'], [1, 4, 'classe1']]}]}\n"
     ]
    }
   ],
   "source": [
    "def verificar_intervalos(lista):\n",
    "    lista_filtrada = []\n",
    "    for i in range(len(lista)):\n",
    "        intervalo_atual = lista[i]\n",
    "        is_subintervalo = False\n",
    "        for j in range(len(lista)):\n",
    "            if i != j:\n",
    "                outro_intervalo = lista[j]\n",
    "                if outro_intervalo[0] <= intervalo_atual[0] and outro_intervalo[1] >= intervalo_atual[1]:\n",
    "                    is_subintervalo = True\n",
    "                    break\n",
    "        if not is_subintervalo:\n",
    "            lista_filtrada.append(intervalo_atual)\n",
    "    return lista_filtrada\n",
    "\n",
    "a = {'classe1':['12345',{'entities':[[1,2,'classe1'],[5,7,'classe1'],[1,4,'classe1']]}]}\n",
    "print(a)\n",
    "\n",
    "def prepara(a):\n",
    "    for i in a.values():\n",
    "        for j in i[1].values():\n",
    "            new_value = verificar_intervalos(j)\n",
    "            i[1]['entities'] = new_value\n",
    "    return a\n",
    "\n",
    "b = prepara(a)\n",
    "print(b)"
   ]
  }
 ],
 "metadata": {
  "kernelspec": {
   "display_name": ".venv",
   "language": "python",
   "name": "python3"
  },
  "language_info": {
   "codemirror_mode": {
    "name": "ipython",
    "version": 3
   },
   "file_extension": ".py",
   "mimetype": "text/x-python",
   "name": "python",
   "nbconvert_exporter": "python",
   "pygments_lexer": "ipython3",
   "version": "3.9.7"
  },
  "orig_nbformat": 4
 },
 "nbformat": 4,
 "nbformat_minor": 2
}
