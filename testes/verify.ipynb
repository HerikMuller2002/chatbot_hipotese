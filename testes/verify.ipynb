{
 "cells": [
  {
   "cell_type": "code",
   "execution_count": null,
   "metadata": {},
   "outputs": [],
   "source": [
    "import pandas as pd"
   ]
  },
  {
   "attachments": {},
   "cell_type": "markdown",
   "metadata": {},
   "source": [
    "## Comparando o troubleshooting original com o novo"
   ]
  },
  {
   "cell_type": "code",
   "execution_count": null,
   "metadata": {},
   "outputs": [],
   "source": [
    "df1 = pd.read_excel(r\"documents\\troubleshooting.xlsx\")\n",
    "df2 = pd.read_excel(r\"documents\\en_troubleshooting.xlsx\")"
   ]
  },
  {
   "cell_type": "code",
   "execution_count": null,
   "metadata": {},
   "outputs": [],
   "source": [
    "df2.shape"
   ]
  },
  {
   "cell_type": "code",
   "execution_count": null,
   "metadata": {},
   "outputs": [],
   "source": [
    "total = 0\n",
    "cont = 0\n",
    "corrigidos = {}\n",
    "original = {}\n",
    "for (col1, serie1), (col2, serie2) in zip(df1.items(), df2.items()):\n",
    "    for (index1, value1), (index2, value2) in zip(serie1.items(), serie2.items()):\n",
    "        if value1 != value2:\n",
    "            cont += 1\n",
    "            corrigidos[value2] = index2\n",
    "            original[value1] = index1\n",
    "        total += 1\n"
   ]
  },
  {
   "cell_type": "code",
   "execution_count": null,
   "metadata": {},
   "outputs": [],
   "source": [
    "print(f'valores totais: {total}')\n",
    "print(f'valores repetidos: {cont}')"
   ]
  },
  {
   "cell_type": "markdown",
   "metadata": {},
   "source": [
    "## tabula"
   ]
  },
  {
   "cell_type": "code",
   "execution_count": null,
   "metadata": {},
   "outputs": [],
   "source": [
    "import tabula\n",
    "\n",
    "# Extrair tabelas do arquivo PDF\n",
    "tabelas = tabula.read_pdf(r'pdf\\action pt-BR.pdf', pages='all')\n",
    "\n",
    "# Salvar cada tabela em um arquivo Excel separado\n",
    "for i, tabela in enumerate(tabelas):\n",
    "    tabela.to_excel(f'portugues\\\\tabelas action\\\\tabela_{i}.xlsx', index=False)\n"
   ]
  },
  {
   "attachments": {},
   "cell_type": "markdown",
   "metadata": {},
   "source": [
    "## criando troubleshooting em portugues"
   ]
  },
  {
   "cell_type": "code",
   "execution_count": null,
   "metadata": {},
   "outputs": [],
   "source": [
    "row=pd.DataFrame(df.loc[0]).T\n",
    "df2 = pd.concat([df, row], axis=0)\n",
    "df2"
   ]
  },
  {
   "cell_type": "code",
   "execution_count": null,
   "metadata": {},
   "outputs": [],
   "source": [
    "import os\n",
    "lista = []\n",
    "path='./portugues/tabelas action/'\n",
    "for file_name in os.listdir(path):\n",
    "    if file_name != 'tabela_0.xlsx':\n",
    "        df = pd.read_excel(f\"{path}/{file_name}\")\n",
    "        df = df.T.reset_index(drop=True).T\n",
    "        df.columns=['ação']\n",
    "        if len(df) > 3:\n",
    "            lista.append(f'df: {file_name}')\n",
    "        # print(f'df: {file_name}\\n',df.shape,'\\n')\n",
    "    \n",
    "    \n",
    "    "
   ]
  },
  {
   "cell_type": "code",
   "execution_count": null,
   "metadata": {},
   "outputs": [],
   "source": [
    "df_type = pd.read_excel(r'portugues\\type_equipament pt-BR.xlsx')\n",
    "df_problem = pd.read_excel(r'portugues\\problem pt-BR.xlsx')\n",
    "df_cause = pd.read_excel(r'portugues\\cause pt-BR.xlsx')\n",
    "df_action = pd.read_excel(r'portugues\\action pt-BR.xlsx')"
   ]
  },
  {
   "cell_type": "code",
   "execution_count": null,
   "metadata": {},
   "outputs": [],
   "source": [
    "lista_df = [df_type,df_problem,df_cause,df_action]\n",
    "new_df = pd.concat(lista_df, axis=1)"
   ]
  },
  {
   "cell_type": "code",
   "execution_count": null,
   "metadata": {},
   "outputs": [],
   "source": [
    "new_df.to_excel('pt_troubleshooting.xlsx')"
   ]
  }
 ],
 "metadata": {
  "kernelspec": {
   "display_name": ".venv",
   "language": "python",
   "name": "python3"
  },
  "language_info": {
   "codemirror_mode": {
    "name": "ipython",
    "version": 3
   },
   "file_extension": ".py",
   "mimetype": "text/x-python",
   "name": "python",
   "nbconvert_exporter": "python",
   "pygments_lexer": "ipython3",
   "version": "3.9.7"
  },
  "orig_nbformat": 4
 },
 "nbformat": 4,
 "nbformat_minor": 2
}
